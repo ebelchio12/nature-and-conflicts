{
 "cells": [
  {
   "cell_type": "markdown",
   "id": "3bcbb9f4-b784-48f5-9b25-a6b113c992f7",
   "metadata": {},
   "source": [
    "## [USDA National Agricultural Statistics Service (NASS)](https://www.nass.usda.gov/)"
   ]
  },
  {
   "cell_type": "code",
   "execution_count": 134,
   "id": "38d38f40-0d68-42cb-8568-9b7e632e493c",
   "metadata": {},
   "outputs": [
    {
     "name": "stdout",
     "output_type": "stream",
     "text": [
      "{\n",
      "  \"data\": [\n",
      "    {\n",
      "      \"agg_level_desc\": \"NATIONAL\",\n",
      "      \"load_time\": \"2024-10-31 12:00:00.000\",\n",
      "      \"sector_desc\": \"CROPS\",\n",
      "      \"state_ansi\": \"\",\n",
      "      \"statisticcat_desc\": \"AREA HARVESTED\",\n",
      "      \"congr_district_code\": \"\",\n",
      "      \"CV (%)\": \"6.3\",\n",
      "      \"domaincat_desc\": \"IRRIGATION METHOD, PRIMARY: (GRAVITY)\",\n",
      "      \"Value\": \"1,940,173\",\n",
      "      \"util_practice_desc\": \"GRAIN\",\n",
      "      \"unit_desc\": \"ACRES\",\n",
      "      \"class_desc\": \"ALL CLASSES\",\n",
      "      \"location_desc\": \"US TOTAL\",\n",
      "      \"state_alpha\": \"US\",\n",
      "      \"zip_5\": \"\",\n",
      "      \"begin_code\": \"00\",\n",
      "      \"county_name\": \"\",\n",
      "      \"source_desc\": \"CENSUS\",\n",
      "      \"domain_desc\": \"IRRIGATION METHOD, PRIMARY\",\n",
      "      \"watershed_desc\": \"\",\n",
      "      \"reference_period_desc\": \"YEAR\",\n",
      "      \"short_desc\": \"CORN, GRAIN, IRRIGATED - ACRES HARVESTED\",\n",
      "      \"year\": 2023,\n",
      "      \"county_ansi\": \"\",\n",
      "      \"commodity_desc\": \"CORN\",\n",
      "      \"end_code\": \"00\",\n",
      "      \"freq_desc\": \"ANNUAL\",\n",
      "      \"group_desc\": \"FIELD CROPS\",\n",
      "      \"asd_code\": \"\",\n",
      "      \"state_name\"\n"
     ]
    }
   ],
   "source": [
    "import requests\n",
    "\n",
    "# USDA Quick Stats API URL\n",
    "url = \"https://quickstats.nass.usda.gov/api/api_GET/\"\n",
    "\n",
    "# Parameters for filtering data\n",
    "params = {\n",
    "    \"key\": \"YOUR_API_KEY\",   # Your USDA API Key\n",
    "    \"commodity_desc\": \"CORN\", # Change to any commodity (e.g., WHEAT, SOYBEANS)\n",
    "    \"year\": \"2023\",\n",
    "    \"agg_level_desc\": \"NATIONAL\", # Options: NATIONAL, STATE, COUNTY\n",
    "    \"format\": \"JSON\" # Get data in JSON format\n",
    "}\n",
    "\n",
    "# Send request\n",
    "response = requests.get(url, params=params)\n",
    "data = response.json()  # Convert to JSON\n",
    "\n",
    "import json\n",
    "print(json.dumps(data, indent=2)[:1000])  # Print only the first 1000 characters\n"
   ]
  }
 ],
 "metadata": {
  "kernelspec": {
   "display_name": "Python (myenv)",
   "language": "python",
   "name": "myenv"
  },
  "language_info": {
   "codemirror_mode": {
    "name": "ipython",
    "version": 3
   },
   "file_extension": ".py",
   "mimetype": "text/x-python",
   "name": "python",
   "nbconvert_exporter": "python",
   "pygments_lexer": "ipython3",
   "version": "3.11.7"
  }
 },
 "nbformat": 4,
 "nbformat_minor": 5
}
